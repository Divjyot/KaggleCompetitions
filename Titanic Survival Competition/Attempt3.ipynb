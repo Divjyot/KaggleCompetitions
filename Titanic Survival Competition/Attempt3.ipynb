{
 "cells": [
  {
   "cell_type": "code",
   "execution_count": 4,
   "metadata": {},
   "outputs": [],
   "source": [
    "import pandas as pd\n",
    "pd.options.display.max_colwidth = 100\n",
    "import numpy as np\n",
    "import seaborn as sns\n",
    "import matplotlib.pyplot as plt\n",
    "from scipy import stats\n",
    "\n",
    "import re\n",
    "from sklearn.model_selection import train_test_split\n",
    "from sklearn.model_selection import cross_validate\n",
    "from sklearn.metrics import accuracy_score\n",
    "from sklearn.metrics import make_scorer\n",
    "from catboost import CatBoost, CatBoostClassifier, Pool, cv\n",
    "import math\n"
   ]
  },
  {
   "cell_type": "code",
   "execution_count": 5,
   "metadata": {},
   "outputs": [
    {
     "data": {
      "text/html": [
       "<div>\n",
       "<style scoped>\n",
       "    .dataframe tbody tr th:only-of-type {\n",
       "        vertical-align: middle;\n",
       "    }\n",
       "\n",
       "    .dataframe tbody tr th {\n",
       "        vertical-align: top;\n",
       "    }\n",
       "\n",
       "    .dataframe thead th {\n",
       "        text-align: right;\n",
       "    }\n",
       "</style>\n",
       "<table border=\"1\" class=\"dataframe\">\n",
       "  <thead>\n",
       "    <tr style=\"text-align: right;\">\n",
       "      <th></th>\n",
       "      <th>PassengerId</th>\n",
       "      <th>Survived</th>\n",
       "      <th>Pclass</th>\n",
       "      <th>Name</th>\n",
       "      <th>Sex</th>\n",
       "      <th>Age</th>\n",
       "      <th>SibSp</th>\n",
       "      <th>Parch</th>\n",
       "      <th>Ticket</th>\n",
       "      <th>Fare</th>\n",
       "      <th>Cabin</th>\n",
       "      <th>Embarked</th>\n",
       "    </tr>\n",
       "  </thead>\n",
       "  <tbody>\n",
       "    <tr>\n",
       "      <th>0</th>\n",
       "      <td>1</td>\n",
       "      <td>0</td>\n",
       "      <td>3</td>\n",
       "      <td>Braund, Mr. Owen...</td>\n",
       "      <td>male</td>\n",
       "      <td>22.0</td>\n",
       "      <td>1</td>\n",
       "      <td>0</td>\n",
       "      <td>A/5 21171</td>\n",
       "      <td>7.2500</td>\n",
       "      <td>NaN</td>\n",
       "      <td>S</td>\n",
       "    </tr>\n",
       "    <tr>\n",
       "      <th>1</th>\n",
       "      <td>2</td>\n",
       "      <td>1</td>\n",
       "      <td>1</td>\n",
       "      <td>Cumings, Mrs. Jo...</td>\n",
       "      <td>female</td>\n",
       "      <td>38.0</td>\n",
       "      <td>1</td>\n",
       "      <td>0</td>\n",
       "      <td>PC 17599</td>\n",
       "      <td>71.2833</td>\n",
       "      <td>C85</td>\n",
       "      <td>C</td>\n",
       "    </tr>\n",
       "    <tr>\n",
       "      <th>2</th>\n",
       "      <td>3</td>\n",
       "      <td>1</td>\n",
       "      <td>3</td>\n",
       "      <td>Heikkinen, Miss....</td>\n",
       "      <td>female</td>\n",
       "      <td>26.0</td>\n",
       "      <td>0</td>\n",
       "      <td>0</td>\n",
       "      <td>STON/O2. 3101282</td>\n",
       "      <td>7.9250</td>\n",
       "      <td>NaN</td>\n",
       "      <td>S</td>\n",
       "    </tr>\n",
       "    <tr>\n",
       "      <th>3</th>\n",
       "      <td>4</td>\n",
       "      <td>1</td>\n",
       "      <td>1</td>\n",
       "      <td>Futrelle, Mrs. J...</td>\n",
       "      <td>female</td>\n",
       "      <td>35.0</td>\n",
       "      <td>1</td>\n",
       "      <td>0</td>\n",
       "      <td>113803</td>\n",
       "      <td>53.1000</td>\n",
       "      <td>C123</td>\n",
       "      <td>S</td>\n",
       "    </tr>\n",
       "    <tr>\n",
       "      <th>4</th>\n",
       "      <td>5</td>\n",
       "      <td>0</td>\n",
       "      <td>3</td>\n",
       "      <td>Allen, Mr. Willi...</td>\n",
       "      <td>male</td>\n",
       "      <td>35.0</td>\n",
       "      <td>0</td>\n",
       "      <td>0</td>\n",
       "      <td>373450</td>\n",
       "      <td>8.0500</td>\n",
       "      <td>NaN</td>\n",
       "      <td>S</td>\n",
       "    </tr>\n",
       "  </tbody>\n",
       "</table>\n",
       "</div>"
      ],
      "text/plain": [
       "   PassengerId  Survived  Pclass                 Name     Sex   Age  SibSp  \\\n",
       "0            1         0       3  Braund, Mr. Owen...    male  22.0      1   \n",
       "1            2         1       1  Cumings, Mrs. Jo...  female  38.0      1   \n",
       "2            3         1       3  Heikkinen, Miss....  female  26.0      0   \n",
       "3            4         1       1  Futrelle, Mrs. J...  female  35.0      1   \n",
       "4            5         0       3  Allen, Mr. Willi...    male  35.0      0   \n",
       "\n",
       "   Parch            Ticket     Fare Cabin Embarked  \n",
       "0      0         A/5 21171   7.2500   NaN        S  \n",
       "1      0          PC 17599  71.2833   C85        C  \n",
       "2      0  STON/O2. 3101282   7.9250   NaN        S  \n",
       "3      0            113803  53.1000  C123        S  \n",
       "4      0            373450   8.0500   NaN        S  "
      ]
     },
     "execution_count": 5,
     "metadata": {},
     "output_type": "execute_result"
    }
   ],
   "source": [
    "pd.set_option('display.max_colwidth', 20)\n",
    "df = pd.read_csv(\"titanic_datasets/train.csv\")\n",
    "df.head()"
   ]
  },
  {
   "cell_type": "code",
   "execution_count": 6,
   "metadata": {},
   "outputs": [
    {
     "data": {
      "text/html": [
       "<div>\n",
       "<style scoped>\n",
       "    .dataframe tbody tr th:only-of-type {\n",
       "        vertical-align: middle;\n",
       "    }\n",
       "\n",
       "    .dataframe tbody tr th {\n",
       "        vertical-align: top;\n",
       "    }\n",
       "\n",
       "    .dataframe thead th {\n",
       "        text-align: right;\n",
       "    }\n",
       "</style>\n",
       "<table border=\"1\" class=\"dataframe\">\n",
       "  <thead>\n",
       "    <tr style=\"text-align: right;\">\n",
       "      <th></th>\n",
       "      <th>PassengerId</th>\n",
       "      <th>Survived</th>\n",
       "      <th>Pclass</th>\n",
       "      <th>Age</th>\n",
       "      <th>SibSp</th>\n",
       "      <th>Parch</th>\n",
       "      <th>Fare</th>\n",
       "    </tr>\n",
       "  </thead>\n",
       "  <tbody>\n",
       "    <tr>\n",
       "      <th>count</th>\n",
       "      <td>891.000000</td>\n",
       "      <td>891.000000</td>\n",
       "      <td>891.000000</td>\n",
       "      <td>714.000000</td>\n",
       "      <td>891.000000</td>\n",
       "      <td>891.000000</td>\n",
       "      <td>891.000000</td>\n",
       "    </tr>\n",
       "    <tr>\n",
       "      <th>mean</th>\n",
       "      <td>446.000000</td>\n",
       "      <td>0.383838</td>\n",
       "      <td>2.308642</td>\n",
       "      <td>29.699118</td>\n",
       "      <td>0.523008</td>\n",
       "      <td>0.381594</td>\n",
       "      <td>32.204208</td>\n",
       "    </tr>\n",
       "    <tr>\n",
       "      <th>std</th>\n",
       "      <td>257.353842</td>\n",
       "      <td>0.486592</td>\n",
       "      <td>0.836071</td>\n",
       "      <td>14.526497</td>\n",
       "      <td>1.102743</td>\n",
       "      <td>0.806057</td>\n",
       "      <td>49.693429</td>\n",
       "    </tr>\n",
       "    <tr>\n",
       "      <th>min</th>\n",
       "      <td>1.000000</td>\n",
       "      <td>0.000000</td>\n",
       "      <td>1.000000</td>\n",
       "      <td>0.420000</td>\n",
       "      <td>0.000000</td>\n",
       "      <td>0.000000</td>\n",
       "      <td>0.000000</td>\n",
       "    </tr>\n",
       "    <tr>\n",
       "      <th>25%</th>\n",
       "      <td>223.500000</td>\n",
       "      <td>0.000000</td>\n",
       "      <td>2.000000</td>\n",
       "      <td>20.125000</td>\n",
       "      <td>0.000000</td>\n",
       "      <td>0.000000</td>\n",
       "      <td>7.910400</td>\n",
       "    </tr>\n",
       "    <tr>\n",
       "      <th>50%</th>\n",
       "      <td>446.000000</td>\n",
       "      <td>0.000000</td>\n",
       "      <td>3.000000</td>\n",
       "      <td>28.000000</td>\n",
       "      <td>0.000000</td>\n",
       "      <td>0.000000</td>\n",
       "      <td>14.454200</td>\n",
       "    </tr>\n",
       "    <tr>\n",
       "      <th>75%</th>\n",
       "      <td>668.500000</td>\n",
       "      <td>1.000000</td>\n",
       "      <td>3.000000</td>\n",
       "      <td>38.000000</td>\n",
       "      <td>1.000000</td>\n",
       "      <td>0.000000</td>\n",
       "      <td>31.000000</td>\n",
       "    </tr>\n",
       "    <tr>\n",
       "      <th>max</th>\n",
       "      <td>891.000000</td>\n",
       "      <td>1.000000</td>\n",
       "      <td>3.000000</td>\n",
       "      <td>80.000000</td>\n",
       "      <td>8.000000</td>\n",
       "      <td>6.000000</td>\n",
       "      <td>512.329200</td>\n",
       "    </tr>\n",
       "  </tbody>\n",
       "</table>\n",
       "</div>"
      ],
      "text/plain": [
       "       PassengerId    Survived      Pclass         Age       SibSp  \\\n",
       "count   891.000000  891.000000  891.000000  714.000000  891.000000   \n",
       "mean    446.000000    0.383838    2.308642   29.699118    0.523008   \n",
       "std     257.353842    0.486592    0.836071   14.526497    1.102743   \n",
       "min       1.000000    0.000000    1.000000    0.420000    0.000000   \n",
       "25%     223.500000    0.000000    2.000000   20.125000    0.000000   \n",
       "50%     446.000000    0.000000    3.000000   28.000000    0.000000   \n",
       "75%     668.500000    1.000000    3.000000   38.000000    1.000000   \n",
       "max     891.000000    1.000000    3.000000   80.000000    8.000000   \n",
       "\n",
       "            Parch        Fare  \n",
       "count  891.000000  891.000000  \n",
       "mean     0.381594   32.204208  \n",
       "std      0.806057   49.693429  \n",
       "min      0.000000    0.000000  \n",
       "25%      0.000000    7.910400  \n",
       "50%      0.000000   14.454200  \n",
       "75%      0.000000   31.000000  \n",
       "max      6.000000  512.329200  "
      ]
     },
     "execution_count": 6,
     "metadata": {},
     "output_type": "execute_result"
    }
   ],
   "source": [
    "df.describe()"
   ]
  },
  {
   "cell_type": "code",
   "execution_count": 7,
   "metadata": {},
   "outputs": [],
   "source": [
    "def get_data_y_features(df, is_train = False):\n",
    "    data = df.copy()\n",
    "    data.index = df.PassengerId\n",
    "    features = data.columns\n",
    "    pID = data.PassengerId\n",
    "    data.drop(columns = ['PassengerId'], inplace=True)\n",
    "    \n",
    "    if is_train:\n",
    "        y = data.Survived\n",
    "        data.drop(columns = ['Survived'], inplace=True)\n",
    "        return data, y, features\n",
    "        \n",
    "    return data, features"
   ]
  },
  {
   "cell_type": "code",
   "execution_count": 8,
   "metadata": {},
   "outputs": [],
   "source": [
    "data, y, features = get_data_y_features(df, True)"
   ]
  },
  {
   "cell_type": "code",
   "execution_count": 9,
   "metadata": {},
   "outputs": [
    {
     "data": {
      "text/html": [
       "<div>\n",
       "<style scoped>\n",
       "    .dataframe tbody tr th:only-of-type {\n",
       "        vertical-align: middle;\n",
       "    }\n",
       "\n",
       "    .dataframe tbody tr th {\n",
       "        vertical-align: top;\n",
       "    }\n",
       "\n",
       "    .dataframe thead th {\n",
       "        text-align: right;\n",
       "    }\n",
       "</style>\n",
       "<table border=\"1\" class=\"dataframe\">\n",
       "  <thead>\n",
       "    <tr style=\"text-align: right;\">\n",
       "      <th></th>\n",
       "      <th>Pclass</th>\n",
       "      <th>Name</th>\n",
       "      <th>Sex</th>\n",
       "      <th>Age</th>\n",
       "      <th>SibSp</th>\n",
       "      <th>Parch</th>\n",
       "      <th>Ticket</th>\n",
       "      <th>Fare</th>\n",
       "      <th>Cabin</th>\n",
       "      <th>Embarked</th>\n",
       "    </tr>\n",
       "    <tr>\n",
       "      <th>PassengerId</th>\n",
       "      <th></th>\n",
       "      <th></th>\n",
       "      <th></th>\n",
       "      <th></th>\n",
       "      <th></th>\n",
       "      <th></th>\n",
       "      <th></th>\n",
       "      <th></th>\n",
       "      <th></th>\n",
       "      <th></th>\n",
       "    </tr>\n",
       "  </thead>\n",
       "  <tbody>\n",
       "    <tr>\n",
       "      <th>1</th>\n",
       "      <td>3</td>\n",
       "      <td>Braund, Mr. Owen...</td>\n",
       "      <td>male</td>\n",
       "      <td>22.0</td>\n",
       "      <td>1</td>\n",
       "      <td>0</td>\n",
       "      <td>A/5 21171</td>\n",
       "      <td>7.2500</td>\n",
       "      <td>NaN</td>\n",
       "      <td>S</td>\n",
       "    </tr>\n",
       "    <tr>\n",
       "      <th>2</th>\n",
       "      <td>1</td>\n",
       "      <td>Cumings, Mrs. Jo...</td>\n",
       "      <td>female</td>\n",
       "      <td>38.0</td>\n",
       "      <td>1</td>\n",
       "      <td>0</td>\n",
       "      <td>PC 17599</td>\n",
       "      <td>71.2833</td>\n",
       "      <td>C85</td>\n",
       "      <td>C</td>\n",
       "    </tr>\n",
       "    <tr>\n",
       "      <th>3</th>\n",
       "      <td>3</td>\n",
       "      <td>Heikkinen, Miss....</td>\n",
       "      <td>female</td>\n",
       "      <td>26.0</td>\n",
       "      <td>0</td>\n",
       "      <td>0</td>\n",
       "      <td>STON/O2. 3101282</td>\n",
       "      <td>7.9250</td>\n",
       "      <td>NaN</td>\n",
       "      <td>S</td>\n",
       "    </tr>\n",
       "    <tr>\n",
       "      <th>4</th>\n",
       "      <td>1</td>\n",
       "      <td>Futrelle, Mrs. J...</td>\n",
       "      <td>female</td>\n",
       "      <td>35.0</td>\n",
       "      <td>1</td>\n",
       "      <td>0</td>\n",
       "      <td>113803</td>\n",
       "      <td>53.1000</td>\n",
       "      <td>C123</td>\n",
       "      <td>S</td>\n",
       "    </tr>\n",
       "    <tr>\n",
       "      <th>5</th>\n",
       "      <td>3</td>\n",
       "      <td>Allen, Mr. Willi...</td>\n",
       "      <td>male</td>\n",
       "      <td>35.0</td>\n",
       "      <td>0</td>\n",
       "      <td>0</td>\n",
       "      <td>373450</td>\n",
       "      <td>8.0500</td>\n",
       "      <td>NaN</td>\n",
       "      <td>S</td>\n",
       "    </tr>\n",
       "  </tbody>\n",
       "</table>\n",
       "</div>"
      ],
      "text/plain": [
       "             Pclass                 Name     Sex   Age  SibSp  Parch  \\\n",
       "PassengerId                                                            \n",
       "1                 3  Braund, Mr. Owen...    male  22.0      1      0   \n",
       "2                 1  Cumings, Mrs. Jo...  female  38.0      1      0   \n",
       "3                 3  Heikkinen, Miss....  female  26.0      0      0   \n",
       "4                 1  Futrelle, Mrs. J...  female  35.0      1      0   \n",
       "5                 3  Allen, Mr. Willi...    male  35.0      0      0   \n",
       "\n",
       "                       Ticket     Fare Cabin Embarked  \n",
       "PassengerId                                            \n",
       "1                   A/5 21171   7.2500   NaN        S  \n",
       "2                    PC 17599  71.2833   C85        C  \n",
       "3            STON/O2. 3101282   7.9250   NaN        S  \n",
       "4                      113803  53.1000  C123        S  \n",
       "5                      373450   8.0500   NaN        S  "
      ]
     },
     "execution_count": 9,
     "metadata": {},
     "output_type": "execute_result"
    }
   ],
   "source": [
    "data.head()"
   ]
  },
  {
   "cell_type": "code",
   "execution_count": 10,
   "metadata": {},
   "outputs": [
    {
     "data": {
      "text/plain": [
       "Index(['PassengerId', 'Survived', 'Pclass', 'Name', 'Sex', 'Age', 'SibSp',\n",
       "       'Parch', 'Ticket', 'Fare', 'Cabin', 'Embarked'],\n",
       "      dtype='object')"
      ]
     },
     "execution_count": 10,
     "metadata": {},
     "output_type": "execute_result"
    }
   ],
   "source": [
    "features"
   ]
  },
  {
   "cell_type": "code",
   "execution_count": 11,
   "metadata": {
    "jupyter": {
     "source_hidden": true
    }
   },
   "outputs": [
    {
     "data": {
      "text/html": [
       "<div>\n",
       "<style scoped>\n",
       "    .dataframe tbody tr th:only-of-type {\n",
       "        vertical-align: middle;\n",
       "    }\n",
       "\n",
       "    .dataframe tbody tr th {\n",
       "        vertical-align: top;\n",
       "    }\n",
       "\n",
       "    .dataframe thead th {\n",
       "        text-align: right;\n",
       "    }\n",
       "</style>\n",
       "<table border=\"1\" class=\"dataframe\">\n",
       "  <thead>\n",
       "    <tr style=\"text-align: right;\">\n",
       "      <th></th>\n",
       "      <th>Pclass</th>\n",
       "      <th>Age</th>\n",
       "      <th>SibSp</th>\n",
       "      <th>Parch</th>\n",
       "      <th>Fare</th>\n",
       "    </tr>\n",
       "  </thead>\n",
       "  <tbody>\n",
       "    <tr>\n",
       "      <th>count</th>\n",
       "      <td>891.000000</td>\n",
       "      <td>714.000000</td>\n",
       "      <td>891.000000</td>\n",
       "      <td>891.000000</td>\n",
       "      <td>891.000000</td>\n",
       "    </tr>\n",
       "    <tr>\n",
       "      <th>mean</th>\n",
       "      <td>2.308642</td>\n",
       "      <td>29.699118</td>\n",
       "      <td>0.523008</td>\n",
       "      <td>0.381594</td>\n",
       "      <td>32.204208</td>\n",
       "    </tr>\n",
       "    <tr>\n",
       "      <th>std</th>\n",
       "      <td>0.836071</td>\n",
       "      <td>14.526497</td>\n",
       "      <td>1.102743</td>\n",
       "      <td>0.806057</td>\n",
       "      <td>49.693429</td>\n",
       "    </tr>\n",
       "    <tr>\n",
       "      <th>min</th>\n",
       "      <td>1.000000</td>\n",
       "      <td>0.420000</td>\n",
       "      <td>0.000000</td>\n",
       "      <td>0.000000</td>\n",
       "      <td>0.000000</td>\n",
       "    </tr>\n",
       "    <tr>\n",
       "      <th>25%</th>\n",
       "      <td>2.000000</td>\n",
       "      <td>20.125000</td>\n",
       "      <td>0.000000</td>\n",
       "      <td>0.000000</td>\n",
       "      <td>7.910400</td>\n",
       "    </tr>\n",
       "    <tr>\n",
       "      <th>50%</th>\n",
       "      <td>3.000000</td>\n",
       "      <td>28.000000</td>\n",
       "      <td>0.000000</td>\n",
       "      <td>0.000000</td>\n",
       "      <td>14.454200</td>\n",
       "    </tr>\n",
       "    <tr>\n",
       "      <th>75%</th>\n",
       "      <td>3.000000</td>\n",
       "      <td>38.000000</td>\n",
       "      <td>1.000000</td>\n",
       "      <td>0.000000</td>\n",
       "      <td>31.000000</td>\n",
       "    </tr>\n",
       "    <tr>\n",
       "      <th>max</th>\n",
       "      <td>3.000000</td>\n",
       "      <td>80.000000</td>\n",
       "      <td>8.000000</td>\n",
       "      <td>6.000000</td>\n",
       "      <td>512.329200</td>\n",
       "    </tr>\n",
       "  </tbody>\n",
       "</table>\n",
       "</div>"
      ],
      "text/plain": [
       "           Pclass         Age       SibSp       Parch        Fare\n",
       "count  891.000000  714.000000  891.000000  891.000000  891.000000\n",
       "mean     2.308642   29.699118    0.523008    0.381594   32.204208\n",
       "std      0.836071   14.526497    1.102743    0.806057   49.693429\n",
       "min      1.000000    0.420000    0.000000    0.000000    0.000000\n",
       "25%      2.000000   20.125000    0.000000    0.000000    7.910400\n",
       "50%      3.000000   28.000000    0.000000    0.000000   14.454200\n",
       "75%      3.000000   38.000000    1.000000    0.000000   31.000000\n",
       "max      3.000000   80.000000    8.000000    6.000000  512.329200"
      ]
     },
     "execution_count": 11,
     "metadata": {},
     "output_type": "execute_result"
    }
   ],
   "source": [
    "data.describe()"
   ]
  },
  {
   "cell_type": "code",
   "execution_count": 12,
   "metadata": {},
   "outputs": [],
   "source": [
    "test_df = pd.read_csv(\"titanic_datasets/test.csv\")\n",
    "test_data, test_features = get_data_y_features(test_df)"
   ]
  },
  {
   "cell_type": "code",
   "execution_count": 13,
   "metadata": {},
   "outputs": [
    {
     "data": {
      "text/html": [
       "<div>\n",
       "<style scoped>\n",
       "    .dataframe tbody tr th:only-of-type {\n",
       "        vertical-align: middle;\n",
       "    }\n",
       "\n",
       "    .dataframe tbody tr th {\n",
       "        vertical-align: top;\n",
       "    }\n",
       "\n",
       "    .dataframe thead th {\n",
       "        text-align: right;\n",
       "    }\n",
       "</style>\n",
       "<table border=\"1\" class=\"dataframe\">\n",
       "  <thead>\n",
       "    <tr style=\"text-align: right;\">\n",
       "      <th></th>\n",
       "      <th>Pclass</th>\n",
       "      <th>Name</th>\n",
       "      <th>Sex</th>\n",
       "      <th>Age</th>\n",
       "      <th>SibSp</th>\n",
       "      <th>Parch</th>\n",
       "      <th>Ticket</th>\n",
       "      <th>Fare</th>\n",
       "      <th>Cabin</th>\n",
       "      <th>Embarked</th>\n",
       "    </tr>\n",
       "    <tr>\n",
       "      <th>PassengerId</th>\n",
       "      <th></th>\n",
       "      <th></th>\n",
       "      <th></th>\n",
       "      <th></th>\n",
       "      <th></th>\n",
       "      <th></th>\n",
       "      <th></th>\n",
       "      <th></th>\n",
       "      <th></th>\n",
       "      <th></th>\n",
       "    </tr>\n",
       "  </thead>\n",
       "  <tbody>\n",
       "    <tr>\n",
       "      <th>892</th>\n",
       "      <td>3</td>\n",
       "      <td>Kelly, Mr. James</td>\n",
       "      <td>male</td>\n",
       "      <td>34.5</td>\n",
       "      <td>0</td>\n",
       "      <td>0</td>\n",
       "      <td>330911</td>\n",
       "      <td>7.8292</td>\n",
       "      <td>NaN</td>\n",
       "      <td>Q</td>\n",
       "    </tr>\n",
       "    <tr>\n",
       "      <th>893</th>\n",
       "      <td>3</td>\n",
       "      <td>Wilkes, Mrs. Jam...</td>\n",
       "      <td>female</td>\n",
       "      <td>47.0</td>\n",
       "      <td>1</td>\n",
       "      <td>0</td>\n",
       "      <td>363272</td>\n",
       "      <td>7.0000</td>\n",
       "      <td>NaN</td>\n",
       "      <td>S</td>\n",
       "    </tr>\n",
       "    <tr>\n",
       "      <th>894</th>\n",
       "      <td>2</td>\n",
       "      <td>Myles, Mr. Thoma...</td>\n",
       "      <td>male</td>\n",
       "      <td>62.0</td>\n",
       "      <td>0</td>\n",
       "      <td>0</td>\n",
       "      <td>240276</td>\n",
       "      <td>9.6875</td>\n",
       "      <td>NaN</td>\n",
       "      <td>Q</td>\n",
       "    </tr>\n",
       "    <tr>\n",
       "      <th>895</th>\n",
       "      <td>3</td>\n",
       "      <td>Wirz, Mr. Albert</td>\n",
       "      <td>male</td>\n",
       "      <td>27.0</td>\n",
       "      <td>0</td>\n",
       "      <td>0</td>\n",
       "      <td>315154</td>\n",
       "      <td>8.6625</td>\n",
       "      <td>NaN</td>\n",
       "      <td>S</td>\n",
       "    </tr>\n",
       "    <tr>\n",
       "      <th>896</th>\n",
       "      <td>3</td>\n",
       "      <td>Hirvonen, Mrs. A...</td>\n",
       "      <td>female</td>\n",
       "      <td>22.0</td>\n",
       "      <td>1</td>\n",
       "      <td>1</td>\n",
       "      <td>3101298</td>\n",
       "      <td>12.2875</td>\n",
       "      <td>NaN</td>\n",
       "      <td>S</td>\n",
       "    </tr>\n",
       "  </tbody>\n",
       "</table>\n",
       "</div>"
      ],
      "text/plain": [
       "             Pclass                 Name     Sex   Age  SibSp  Parch   Ticket  \\\n",
       "PassengerId                                                                     \n",
       "892               3     Kelly, Mr. James    male  34.5      0      0   330911   \n",
       "893               3  Wilkes, Mrs. Jam...  female  47.0      1      0   363272   \n",
       "894               2  Myles, Mr. Thoma...    male  62.0      0      0   240276   \n",
       "895               3     Wirz, Mr. Albert    male  27.0      0      0   315154   \n",
       "896               3  Hirvonen, Mrs. A...  female  22.0      1      1  3101298   \n",
       "\n",
       "                Fare Cabin Embarked  \n",
       "PassengerId                          \n",
       "892           7.8292   NaN        Q  \n",
       "893           7.0000   NaN        S  \n",
       "894           9.6875   NaN        Q  \n",
       "895           8.6625   NaN        S  \n",
       "896          12.2875   NaN        S  "
      ]
     },
     "execution_count": 13,
     "metadata": {},
     "output_type": "execute_result"
    }
   ],
   "source": [
    "test_data.head()"
   ]
  },
  {
   "cell_type": "code",
   "execution_count": 14,
   "metadata": {},
   "outputs": [
    {
     "data": {
      "text/plain": [
       "Index(['PassengerId', 'Pclass', 'Name', 'Sex', 'Age', 'SibSp', 'Parch',\n",
       "       'Ticket', 'Fare', 'Cabin', 'Embarked'],\n",
       "      dtype='object')"
      ]
     },
     "execution_count": 14,
     "metadata": {},
     "output_type": "execute_result"
    }
   ],
   "source": [
    "test_features"
   ]
  },
  {
   "cell_type": "code",
   "execution_count": 15,
   "metadata": {
    "jupyter": {
     "source_hidden": true
    }
   },
   "outputs": [
    {
     "data": {
      "text/html": [
       "<div>\n",
       "<style scoped>\n",
       "    .dataframe tbody tr th:only-of-type {\n",
       "        vertical-align: middle;\n",
       "    }\n",
       "\n",
       "    .dataframe tbody tr th {\n",
       "        vertical-align: top;\n",
       "    }\n",
       "\n",
       "    .dataframe thead th {\n",
       "        text-align: right;\n",
       "    }\n",
       "</style>\n",
       "<table border=\"1\" class=\"dataframe\">\n",
       "  <thead>\n",
       "    <tr style=\"text-align: right;\">\n",
       "      <th></th>\n",
       "      <th>Pclass</th>\n",
       "      <th>Age</th>\n",
       "      <th>SibSp</th>\n",
       "      <th>Parch</th>\n",
       "      <th>Fare</th>\n",
       "    </tr>\n",
       "  </thead>\n",
       "  <tbody>\n",
       "    <tr>\n",
       "      <th>count</th>\n",
       "      <td>418.000000</td>\n",
       "      <td>332.000000</td>\n",
       "      <td>418.000000</td>\n",
       "      <td>418.000000</td>\n",
       "      <td>417.000000</td>\n",
       "    </tr>\n",
       "    <tr>\n",
       "      <th>mean</th>\n",
       "      <td>2.265550</td>\n",
       "      <td>30.272590</td>\n",
       "      <td>0.447368</td>\n",
       "      <td>0.392344</td>\n",
       "      <td>35.627188</td>\n",
       "    </tr>\n",
       "    <tr>\n",
       "      <th>std</th>\n",
       "      <td>0.841838</td>\n",
       "      <td>14.181209</td>\n",
       "      <td>0.896760</td>\n",
       "      <td>0.981429</td>\n",
       "      <td>55.907576</td>\n",
       "    </tr>\n",
       "    <tr>\n",
       "      <th>min</th>\n",
       "      <td>1.000000</td>\n",
       "      <td>0.170000</td>\n",
       "      <td>0.000000</td>\n",
       "      <td>0.000000</td>\n",
       "      <td>0.000000</td>\n",
       "    </tr>\n",
       "    <tr>\n",
       "      <th>25%</th>\n",
       "      <td>1.000000</td>\n",
       "      <td>21.000000</td>\n",
       "      <td>0.000000</td>\n",
       "      <td>0.000000</td>\n",
       "      <td>7.895800</td>\n",
       "    </tr>\n",
       "    <tr>\n",
       "      <th>50%</th>\n",
       "      <td>3.000000</td>\n",
       "      <td>27.000000</td>\n",
       "      <td>0.000000</td>\n",
       "      <td>0.000000</td>\n",
       "      <td>14.454200</td>\n",
       "    </tr>\n",
       "    <tr>\n",
       "      <th>75%</th>\n",
       "      <td>3.000000</td>\n",
       "      <td>39.000000</td>\n",
       "      <td>1.000000</td>\n",
       "      <td>0.000000</td>\n",
       "      <td>31.500000</td>\n",
       "    </tr>\n",
       "    <tr>\n",
       "      <th>max</th>\n",
       "      <td>3.000000</td>\n",
       "      <td>76.000000</td>\n",
       "      <td>8.000000</td>\n",
       "      <td>9.000000</td>\n",
       "      <td>512.329200</td>\n",
       "    </tr>\n",
       "  </tbody>\n",
       "</table>\n",
       "</div>"
      ],
      "text/plain": [
       "           Pclass         Age       SibSp       Parch        Fare\n",
       "count  418.000000  332.000000  418.000000  418.000000  417.000000\n",
       "mean     2.265550   30.272590    0.447368    0.392344   35.627188\n",
       "std      0.841838   14.181209    0.896760    0.981429   55.907576\n",
       "min      1.000000    0.170000    0.000000    0.000000    0.000000\n",
       "25%      1.000000   21.000000    0.000000    0.000000    7.895800\n",
       "50%      3.000000   27.000000    0.000000    0.000000   14.454200\n",
       "75%      3.000000   39.000000    1.000000    0.000000   31.500000\n",
       "max      3.000000   76.000000    8.000000    9.000000  512.329200"
      ]
     },
     "execution_count": 15,
     "metadata": {},
     "output_type": "execute_result"
    }
   ],
   "source": [
    "test_data.describe()"
   ]
  },
  {
   "cell_type": "code",
   "execution_count": 16,
   "metadata": {},
   "outputs": [],
   "source": [
    "def model_fit(train_X, train_y, log, cross_val = False):\n",
    "    categorical_features_indices =np.where(train_X.dtypes != np.float)[0] \n",
    "    X_train, X_test, y_train, y_test = train_test_split(train_X, train_y, test_size=0.2)\n",
    "    train_pool = Pool(X_train,\n",
    "                     y_train,\n",
    "                     cat_features=categorical_features_indices)\n",
    "    model = CatBoostClassifier(iterations=1000,\n",
    "                            learning_rate=0.03,\n",
    "                            eval_metric='Accuracy', \n",
    "                            loss_function='CrossEntropy',\n",
    "                            random_seed=15,\n",
    "                            logging_level=log,\n",
    "                            train_dir=\"train_dir\",\n",
    "                            use_best_model = True)\n",
    "    \n",
    "\n",
    "    model.fit(train_pool,\n",
    "             eval_set=(X_test, y_test),\n",
    "             plot=False)\n",
    "    \n",
    "    print('Best Model iteration {iteration} with score {score}. Shrink to first {shrink} iterations'.format(\n",
    "        iteration = model.get_best_iteration(),\n",
    "        score= model.get_best_score(),\n",
    "        shrink = model.get_best_iteration() + 1\n",
    "    ))\n",
    "    \n",
    "    ##########################################################################\n",
    "    if cross_val:\n",
    "        cv_params = model.get_params()\n",
    "        cv_params.update({\n",
    "            'loss_function': 'Logloss',\n",
    "            'logging_level' : log\n",
    "        })\n",
    "\n",
    "        cv_data = cv(\n",
    "            Pool(train_X, train_y, cat_features=categorical_features_indices),\n",
    "            cv_params,\n",
    "            plot=False\n",
    "            \n",
    "        )\n",
    "\n",
    "        print('Best validation accuracy score: {:.2f}±{:.2f} on step {}'.format(\n",
    "            np.max(cv_data['test-Accuracy-mean']),\n",
    "            cv_data['test-Accuracy-std'][np.argmax(cv_data['test-Accuracy-mean'])],\n",
    "            np.argmax(cv_data['test-Accuracy-mean'])\n",
    "        ))\n",
    "        \n",
    "    \n",
    "    model.shrink(model.get_best_iteration() + 1)  \n",
    "    print(\"Model has been shrinked to\", model.tree_count_)\n",
    "    return model"
   ]
  },
  {
   "cell_type": "code",
   "execution_count": 17,
   "metadata": {},
   "outputs": [],
   "source": [
    "def print_null_cols(df_null):\n",
    "        return [\"Column: {colname} NullNums: {nums}  Null: {per}%\".format(colname = col,\n",
    "                                                              nums= len(df_null[df_null[col].isnull() == True]),\n",
    "                                                              per = math.ceil(len(df_null[df_null[col].isnull() == True])*100/len(df_null))) for col in df_null.columns ]\n"
   ]
  },
  {
   "cell_type": "code",
   "execution_count": 18,
   "metadata": {},
   "outputs": [
    {
     "data": {
      "text/plain": [
       "['Column: Pclass NullNums: 0  Null: 0%',\n",
       " 'Column: Name NullNums: 0  Null: 0%',\n",
       " 'Column: Sex NullNums: 0  Null: 0%',\n",
       " 'Column: Age NullNums: 177  Null: 20%',\n",
       " 'Column: SibSp NullNums: 0  Null: 0%',\n",
       " 'Column: Parch NullNums: 0  Null: 0%',\n",
       " 'Column: Ticket NullNums: 0  Null: 0%',\n",
       " 'Column: Fare NullNums: 0  Null: 0%',\n",
       " 'Column: Cabin NullNums: 687  Null: 78%',\n",
       " 'Column: Embarked NullNums: 2  Null: 1%']"
      ]
     },
     "execution_count": 18,
     "metadata": {},
     "output_type": "execute_result"
    }
   ],
   "source": [
    "print_null_cols(data)"
   ]
  },
  {
   "cell_type": "code",
   "execution_count": 19,
   "metadata": {},
   "outputs": [
    {
     "data": {
      "text/plain": [
       "['Column: Pclass NullNums: 0  Null: 0%',\n",
       " 'Column: Name NullNums: 0  Null: 0%',\n",
       " 'Column: Sex NullNums: 0  Null: 0%',\n",
       " 'Column: Age NullNums: 86  Null: 21%',\n",
       " 'Column: SibSp NullNums: 0  Null: 0%',\n",
       " 'Column: Parch NullNums: 0  Null: 0%',\n",
       " 'Column: Ticket NullNums: 0  Null: 0%',\n",
       " 'Column: Fare NullNums: 1  Null: 1%',\n",
       " 'Column: Cabin NullNums: 327  Null: 79%',\n",
       " 'Column: Embarked NullNums: 0  Null: 0%']"
      ]
     },
     "execution_count": 19,
     "metadata": {},
     "output_type": "execute_result"
    }
   ],
   "source": [
    "print_null_cols(test_data)"
   ]
  },
  {
   "cell_type": "code",
   "execution_count": 20,
   "metadata": {},
   "outputs": [],
   "source": [
    "def split_on_name(train_data_sub):\n",
    "    if 'First/Middle Name' in train_data_sub.columns:\n",
    "        return train_data_sub\n",
    "    else:\n",
    "        last_name_split_sal = train_data_sub['Name'].str.split('[,.]', expand=True)\n",
    "        if len(last_name_split_sal.columns) == 4:\n",
    "            last_name_split_sal[3] = last_name_split_sal[3].apply(lambda s :  '' if s is None else str(s))\n",
    "            last_name_split_sal['First/Middle Name'] = [ \"{} {}\".format(x, y) for x,y in zip(last_name_split_sal[2], last_name_split_sal[3])]\n",
    "            last_name_split_sal = last_name_split_sal.drop(columns=[2,3])\n",
    "            \n",
    "        last_name_split_sal.columns = ['Last Name', 'Salutation', 'First/Middle Name']\n",
    "        last_name_split_sal = last_name_split_sal.applymap(lambda x: x.strip())\n",
    "        return train_data_sub.join(last_name_split_sal)"
   ]
  },
  {
   "cell_type": "code",
   "execution_count": 21,
   "metadata": {},
   "outputs": [],
   "source": [
    "data = split_on_name(data)"
   ]
  },
  {
   "cell_type": "code",
   "execution_count": 22,
   "metadata": {},
   "outputs": [
    {
     "data": {
      "text/html": [
       "<div>\n",
       "<style scoped>\n",
       "    .dataframe tbody tr th:only-of-type {\n",
       "        vertical-align: middle;\n",
       "    }\n",
       "\n",
       "    .dataframe tbody tr th {\n",
       "        vertical-align: top;\n",
       "    }\n",
       "\n",
       "    .dataframe thead th {\n",
       "        text-align: right;\n",
       "    }\n",
       "</style>\n",
       "<table border=\"1\" class=\"dataframe\">\n",
       "  <thead>\n",
       "    <tr style=\"text-align: right;\">\n",
       "      <th></th>\n",
       "      <th>Pclass</th>\n",
       "      <th>Name</th>\n",
       "      <th>Sex</th>\n",
       "      <th>Age</th>\n",
       "      <th>SibSp</th>\n",
       "      <th>Parch</th>\n",
       "      <th>Ticket</th>\n",
       "      <th>Fare</th>\n",
       "      <th>Cabin</th>\n",
       "      <th>Embarked</th>\n",
       "      <th>Last Name</th>\n",
       "      <th>Salutation</th>\n",
       "      <th>First/Middle Name</th>\n",
       "    </tr>\n",
       "    <tr>\n",
       "      <th>PassengerId</th>\n",
       "      <th></th>\n",
       "      <th></th>\n",
       "      <th></th>\n",
       "      <th></th>\n",
       "      <th></th>\n",
       "      <th></th>\n",
       "      <th></th>\n",
       "      <th></th>\n",
       "      <th></th>\n",
       "      <th></th>\n",
       "      <th></th>\n",
       "      <th></th>\n",
       "      <th></th>\n",
       "    </tr>\n",
       "  </thead>\n",
       "  <tbody>\n",
       "    <tr>\n",
       "      <th>1</th>\n",
       "      <td>3</td>\n",
       "      <td>Braund, Mr. Owen...</td>\n",
       "      <td>male</td>\n",
       "      <td>22.0</td>\n",
       "      <td>1</td>\n",
       "      <td>0</td>\n",
       "      <td>A/5 21171</td>\n",
       "      <td>7.2500</td>\n",
       "      <td>NaN</td>\n",
       "      <td>S</td>\n",
       "      <td>Braund</td>\n",
       "      <td>Mr</td>\n",
       "      <td>Owen Harris</td>\n",
       "    </tr>\n",
       "    <tr>\n",
       "      <th>2</th>\n",
       "      <td>1</td>\n",
       "      <td>Cumings, Mrs. Jo...</td>\n",
       "      <td>female</td>\n",
       "      <td>38.0</td>\n",
       "      <td>1</td>\n",
       "      <td>0</td>\n",
       "      <td>PC 17599</td>\n",
       "      <td>71.2833</td>\n",
       "      <td>C85</td>\n",
       "      <td>C</td>\n",
       "      <td>Cumings</td>\n",
       "      <td>Mrs</td>\n",
       "      <td>John Bradley (Fl...</td>\n",
       "    </tr>\n",
       "    <tr>\n",
       "      <th>3</th>\n",
       "      <td>3</td>\n",
       "      <td>Heikkinen, Miss....</td>\n",
       "      <td>female</td>\n",
       "      <td>26.0</td>\n",
       "      <td>0</td>\n",
       "      <td>0</td>\n",
       "      <td>STON/O2. 3101282</td>\n",
       "      <td>7.9250</td>\n",
       "      <td>NaN</td>\n",
       "      <td>S</td>\n",
       "      <td>Heikkinen</td>\n",
       "      <td>Miss</td>\n",
       "      <td>Laina</td>\n",
       "    </tr>\n",
       "    <tr>\n",
       "      <th>4</th>\n",
       "      <td>1</td>\n",
       "      <td>Futrelle, Mrs. J...</td>\n",
       "      <td>female</td>\n",
       "      <td>35.0</td>\n",
       "      <td>1</td>\n",
       "      <td>0</td>\n",
       "      <td>113803</td>\n",
       "      <td>53.1000</td>\n",
       "      <td>C123</td>\n",
       "      <td>S</td>\n",
       "      <td>Futrelle</td>\n",
       "      <td>Mrs</td>\n",
       "      <td>Jacques Heath (L...</td>\n",
       "    </tr>\n",
       "    <tr>\n",
       "      <th>5</th>\n",
       "      <td>3</td>\n",
       "      <td>Allen, Mr. Willi...</td>\n",
       "      <td>male</td>\n",
       "      <td>35.0</td>\n",
       "      <td>0</td>\n",
       "      <td>0</td>\n",
       "      <td>373450</td>\n",
       "      <td>8.0500</td>\n",
       "      <td>NaN</td>\n",
       "      <td>S</td>\n",
       "      <td>Allen</td>\n",
       "      <td>Mr</td>\n",
       "      <td>William Henry</td>\n",
       "    </tr>\n",
       "  </tbody>\n",
       "</table>\n",
       "</div>"
      ],
      "text/plain": [
       "             Pclass                 Name     Sex   Age  SibSp  Parch  \\\n",
       "PassengerId                                                            \n",
       "1                 3  Braund, Mr. Owen...    male  22.0      1      0   \n",
       "2                 1  Cumings, Mrs. Jo...  female  38.0      1      0   \n",
       "3                 3  Heikkinen, Miss....  female  26.0      0      0   \n",
       "4                 1  Futrelle, Mrs. J...  female  35.0      1      0   \n",
       "5                 3  Allen, Mr. Willi...    male  35.0      0      0   \n",
       "\n",
       "                       Ticket     Fare Cabin Embarked  Last Name Salutation  \\\n",
       "PassengerId                                                                   \n",
       "1                   A/5 21171   7.2500   NaN        S     Braund         Mr   \n",
       "2                    PC 17599  71.2833   C85        C    Cumings        Mrs   \n",
       "3            STON/O2. 3101282   7.9250   NaN        S  Heikkinen       Miss   \n",
       "4                      113803  53.1000  C123        S   Futrelle        Mrs   \n",
       "5                      373450   8.0500   NaN        S      Allen         Mr   \n",
       "\n",
       "               First/Middle Name  \n",
       "PassengerId                       \n",
       "1                    Owen Harris  \n",
       "2            John Bradley (Fl...  \n",
       "3                          Laina  \n",
       "4            Jacques Heath (L...  \n",
       "5                  William Henry  "
      ]
     },
     "execution_count": 22,
     "metadata": {},
     "output_type": "execute_result"
    }
   ],
   "source": [
    "data.head()"
   ]
  },
  {
   "cell_type": "code",
   "execution_count": 23,
   "metadata": {},
   "outputs": [],
   "source": [
    "from catboost import CatBoostRegressor\n",
    "    \n",
    "def age_model_fit(t_X,\n",
    "                  t_Y, \n",
    "                  ln,\n",
    "                  depth,\n",
    "                  iters,\n",
    "                  log = 'Silent',\n",
    "                  loss_funct = 'MAE',\n",
    "                  cross_val = False):\n",
    "    \n",
    "    model = CatBoostRegressor(iterations=iters,\n",
    "                            learning_rate=ln,\n",
    "                            depth = depth,\n",
    "                            loss_function=loss_funct,\n",
    "                            random_seed=15,\n",
    "                            logging_level=log,\n",
    "                            train_dir=\"train_dir_age\",\n",
    "                            use_best_model = True)\n",
    "    \n",
    "    categorical_features_indices =np.where(t_X.dtypes != np.float)[0] \n",
    "    X_train, X_test, y_train, y_test = train_test_split(t_X, t_Y, test_size=0.2)\n",
    "    train_pool = Pool(X_train,\n",
    "                     y_train,\n",
    "                     cat_features=categorical_features_indices)\n",
    "    \n",
    "    model.fit(train_pool, eval_set=(X_test, y_test))\n",
    "    \n",
    "    print('Best Model iteration {iteration} with score {score}. Shrink to first {shrink} iterations'.format(\n",
    "        iteration = model.get_best_iteration(),\n",
    "        score= model.get_best_score(),\n",
    "        shrink = model.get_best_iteration() + 1\n",
    "    ))\n",
    "    \n",
    "    if cross_val:\n",
    "        cv_params = model.get_params()\n",
    "        cv_params.update({\n",
    "            'loss_function': loss_funct,\n",
    "            'logging_level' : log\n",
    "        })\n",
    "\n",
    "        cv_data = cv(\n",
    "            Pool(t_X, t_Y, cat_features=categorical_features_indices),\n",
    "            cv_params\n",
    "        )\n",
    "        try:\n",
    "            print('Best validation accuracy score: {:.2f}±{:.2f} on step {}'.format(\n",
    "                np.max(cv_data['test-Accuracy-mean']),\n",
    "                cv_data['test-Accuracy-std'][np.argmax(cv_data['test-Accuracy-mean'])],\n",
    "                np.argmax(cv_data['test-Accuracy-mean'])\n",
    "            ))\n",
    "        except:\n",
    "            print('Exception during printing best validation score. Printing everything now: ')\n",
    "            print(cv_data)\n",
    "\n",
    "        \n",
    "    model.shrink(model.get_best_iteration() + 1)  \n",
    "    print(\"Model has been shrinked to\", model.tree_count_)\n",
    "    \n",
    "    return model\n",
    "\n",
    "def fill_age_train(features,\n",
    "                   X,\n",
    "                   ln =0.3,\n",
    "                   depth =10,\n",
    "                   iters =2000,\n",
    "                   round_age = False, cross_vali = False):\n",
    "    X_age = X[features].copy()\n",
    "    \n",
    "\n",
    "    X_age = X_age[(X_age['Age'].isnull() == False)]\n",
    "    y = X_age['Age'].copy()\n",
    "    X_age.drop(columns=['Age'], inplace=True)\n",
    "    X_age.fillna(-999, inplace=True)\n",
    "    age_model  = age_model_fit(X_age, y, ln, depth, iters, loss_funct = 'RMSE', cross_val=cross_vali)\n",
    "    \n",
    "    \n",
    "    X_test = X[X['Age'].isnull() == True].drop(columns=['Age']).fillna(-999)\n",
    "    \n",
    "    test_pool = Pool(X_test, cat_features=np.where(X_test.dtypes != np.float)[0])\n",
    "    predicted_ages = np.array(age_model.predict(test_pool))\n",
    "    if round_age:\n",
    "        predicted_ages =  [math.ceil(i) for i in predicted_ages]\n",
    "    \n",
    "    X.loc[X_test.index, 'Age'] = pd.Series(predicted_ages, X_test.index)\n",
    "    \n",
    "    return predicted_ages, X , age_model"
   ]
  },
  {
   "cell_type": "code",
   "execution_count": 24,
   "metadata": {},
   "outputs": [],
   "source": [
    "features = ['Pclass','Sex', 'Age', 'SibSp', 'Parch', 'Ticket', 'Fare', 'Salutation']"
   ]
  },
  {
   "cell_type": "code",
   "execution_count": 207,
   "metadata": {},
   "outputs": [
    {
     "name": "stdout",
     "output_type": "stream",
     "text": [
      "Best Model iteration 290 with score {'learn': {'RMSE': 3.685730246865822}, 'validation': {'RMSE': 10.31286368072584}}. Shrink to first 291 iterations\n",
      "Model has been shrinked to 291\n"
     ]
    },
    {
     "name": "stderr",
     "output_type": "stream",
     "text": [
      "C:\\Users\\divjo\\Anaconda3\\envs\\super\\lib\\site-packages\\ipykernel_launcher.py:75: DeprecationWarning: The default dtype for empty Series will be 'object' instead of 'float64' in a future version. Specify a dtype explicitly to silence this warning.\n"
     ]
    }
   ],
   "source": [
    "ages, df_ages_filled, age_model =  fill_age_train(features, data)"
   ]
  },
  {
   "cell_type": "raw",
   "metadata": {},
   "source": [
    "## Previous Run (Age Model)\n",
    "Best Model iteration 290 with score {'learn': {'RMSE': 3.685730246865822}, 'validation': {'RMSE': 10.31286368072584}}. Shrink to first 291 iterations\n",
    "Model has been shrinked to 291"
   ]
  },
  {
   "cell_type": "code",
   "execution_count": 218,
   "metadata": {},
   "outputs": [
    {
     "name": "stdout",
     "output_type": "stream",
     "text": [
      "Best Model iteration 43 with score {'learn': {'Accuracy': 0.9578651685393258, 'CrossEntropy': 0.15278032636777053}, 'validation': {'Accuracy': 0.8379888268156425, 'CrossEntropy': 0.42860615521629836}}. Shrink to first 44 iterations\n",
      "Best validation accuracy score: 0.83±0.03 on step 377\n",
      "Model has been shrinked to 44\n"
     ]
    }
   ],
   "source": [
    "model = model_fit(df_ages_filled[features], \n",
    "                  y, \n",
    "                  log = 'Silent',\n",
    "                  cross_val=True)"
   ]
  },
  {
   "cell_type": "code",
   "execution_count": 399,
   "metadata": {},
   "outputs": [],
   "source": [
    "def update_null_ages_test(test_data, age_model,  round_age = False):\n",
    "    test_data_name_split = split_on_name(test_data)\n",
    "    test_features_age = features.copy()\n",
    "    test_features_age.remove('Age')\n",
    "    X_test = test_data_name_split[test_data_name_split['Age'].isnull() == True].drop(columns=['Age']).fillna(-999)[test_features_age]\n",
    "\n",
    "    test_pool = Pool(X_test, cat_features=np.where(X_test.dtypes != np.float)[0])\n",
    "    predicted_ages = np.array(age_model.predict(test_pool))\n",
    "    if round_age:\n",
    "        predicted_ages = [math.ceil(i) for i in predicted_ages]\n",
    "    \n",
    "    test_data_name_split.loc[X_test.index, 'Age'] = pd.Series(predicted_ages, X_test.index)\n",
    "    return test_data_name_split\n"
   ]
  },
  {
   "cell_type": "markdown",
   "metadata": {},
   "source": [
    "## Predict Result"
   ]
  },
  {
   "cell_type": "code",
   "execution_count": null,
   "metadata": {},
   "outputs": [],
   "source": [
    "test_data = update_null_ages_test(test_data)\n",
    "\n",
    "test_data.iloc[test_df['Age'].isnull().index]\n",
    "\n",
    "test_data = test_data[features]\n",
    "predictions = pd.Series( model.predict(Pool(test_data, cat_features=np.where(test_data.dtypes != np.float)[0])),\n",
    "                        dtype=int)\n",
    "\n",
    "\n",
    "pred_df = pd.DataFrame({'PassengerId': pd.Series(test_data.index), 'Survived' : predictions})\n",
    "pred_df.to_csv('Submission_X.csv', index=False)"
   ]
  },
  {
   "cell_type": "markdown",
   "metadata": {},
   "source": [
    "### Lets add more features:\n",
    "#### + Last Name"
   ]
  },
  {
   "cell_type": "code",
   "execution_count": 387,
   "metadata": {},
   "outputs": [],
   "source": [
    "features.append('Last Name')"
   ]
  },
  {
   "cell_type": "code",
   "execution_count": 388,
   "metadata": {},
   "outputs": [
    {
     "name": "stdout",
     "output_type": "stream",
     "text": [
      "Best Model iteration 759 with score {'learn': {'Accuracy': 0.9578651685393258, 'CrossEntropy': 0.15848840593423563}, 'validation': {'Accuracy': 0.8659217877094972, 'CrossEntropy': 0.3901569963540316}}. Shrink to first 760 iterations\n",
      "Best validation accuracy score: 0.84±0.05 on step 650\n",
      "Model has been shrinked to 760\n"
     ]
    }
   ],
   "source": [
    "model = model_fit(df_ages_filled[features], \n",
    "                  y, \n",
    "                  log = 'Silent',\n",
    "                  cross_val=True)\n",
    "features.remove('Last Name')"
   ]
  },
  {
   "cell_type": "raw",
   "metadata": {},
   "source": [
    "## Previous Run\n",
    "Best Model iteration 53 with score {'learn': {'Accuracy': 0.952247191011236, 'CrossEntropy': 0.1614689850063309}, 'validation': {'Accuracy': 0.88268156424581, 'CrossEntropy': 0.34284744780965626}}. Shrink to first 54 iterations\n",
    "Best validation accuracy score: 0.84±0.02 on step 952\n",
    "Model has been shrinked to 54"
   ]
  },
  {
   "cell_type": "markdown",
   "metadata": {},
   "source": [
    "#### - Last Name\n",
    "#### + Embarked"
   ]
  },
  {
   "cell_type": "code",
   "execution_count": 354,
   "metadata": {},
   "outputs": [],
   "source": [
    "features.append('Embarked')"
   ]
  },
  {
   "cell_type": "code",
   "execution_count": 375,
   "metadata": {
    "collapsed": true,
    "jupyter": {
     "outputs_hidden": true
    }
   },
   "outputs": [
    {
     "data": {
      "text/plain": [
       "<matplotlib.axes._subplots.AxesSubplot at 0x2b1f6740448>"
      ]
     },
     "execution_count": 375,
     "metadata": {},
     "output_type": "execute_result"
    },
    {
     "data": {
      "image/png": "[encoded data removed]",
      "text/plain": [
       "<Figure size 432x288 with 1 Axes>"
      ]
     },
     "metadata": {
      "needs_background": "light"
     },
     "output_type": "display_data"
    }
   ],
   "source": [
    "df[df['Embarked'].isnull() == False]['Embarked'].hist()"
   ]
  },
  {
   "cell_type": "code",
   "execution_count": 378,
   "metadata": {},
   "outputs": [
    {
     "name": "stdout",
     "output_type": "stream",
     "text": [
      "Best Model iteration 792 with score {'learn': {'Accuracy': 0.9536516853932584, 'CrossEntropy': 0.16226357350200937}, 'validation': {'Accuracy': 0.8603351955307262, 'CrossEntropy': 0.3581426750565498}}. Shrink to first 793 iterations\n",
      "Best validation accuracy score: 0.83±0.02 on step 66\n",
      "Model has been shrinked to 793\n"
     ]
    }
   ],
   "source": [
    "df_ages_filled['Embarked'] = df_ages_filled['Embarked'].fillna('S')\n",
    "model = model_fit(df_ages_filled[features], \n",
    "                  y, \n",
    "                  log = 'Silent',\n",
    "                  cross_val=True)"
   ]
  },
  {
   "cell_type": "markdown",
   "metadata": {},
   "source": [
    "#### + Last Name\n",
    "#### + Embarked"
   ]
  },
  {
   "cell_type": "code",
   "execution_count": 379,
   "metadata": {},
   "outputs": [
    {
     "name": "stdout",
     "output_type": "stream",
     "text": [
      "Best Model iteration 653 with score {'learn': {'Accuracy': 0.973314606741573, 'CrossEntropy': 0.1339781995850671}, 'validation': {'Accuracy': 0.8547486033519553, 'CrossEntropy': 0.41311107615341885}}. Shrink to first 654 iterations\n",
      "Best validation accuracy score: 0.83±0.00 on step 45\n",
      "Model has been shrinked to 654\n"
     ]
    }
   ],
   "source": [
    "features.append('Last Name')\n",
    "model = model_fit(df_ages_filled[features], \n",
    "                  y, \n",
    "                  log = 'Silent',\n",
    "                  cross_val=True)"
   ]
  },
  {
   "cell_type": "markdown",
   "metadata": {
    "jupyter": {
     "source_hidden": true
    }
   },
   "source": [
    "# ----------------------------------------------------------------------------------------------------\n",
    "# Lets improve age predictions"
   ]
  },
  {
   "cell_type": "code",
   "execution_count": 26,
   "metadata": {},
   "outputs": [
    {
     "name": "stdout",
     "output_type": "stream",
     "text": [
      "Best Model iteration 70 with score {'learn': {'RMSE': 3.228326452532446}, 'validation': {'RMSE': 8.60717330389903}}. Shrink to first 71 iterations\n",
      "Model has been shrinked to 71\n"
     ]
    }
   ],
   "source": [
    "ages2, df_ages_filled2, age_model2 =  fill_age_train(['Pclass', 'Age', 'Sex', 'Fare', 'Salutation',  'Ticket' ,'SibSp', 'Parch'],\n",
    "                                                     data,\n",
    "                                                     ln=0.05,\n",
    "                                                     depth=12,\n",
    "                                                     iters=1000,\n",
    "                                                     round_age=False)"
   ]
  },
  {
   "cell_type": "code",
   "execution_count": null,
   "metadata": {},
   "outputs": [],
   "source": [
    "ages3, df_ages_filled3, age_model3 =  fill_age_train(['Pclass', 'Age', 'Sex', 'Fare', 'Salutation',  'Ticket' ,'SibSp', 'Parch'],\n",
    "                                                     data,\n",
    "                                                     ln=0.05,\n",
    "                                                     depth=15,\n",
    "                                                     iters=1000,\n",
    "                                                     round_age=False)"
   ]
  },
  {
   "cell_type": "code",
   "execution_count": null,
   "metadata": {},
   "outputs": [],
   "source": []
  }
 ],
 "metadata": {
  "kernelspec": {
   "display_name": "Python 3",
   "language": "python",
   "name": "python3"
  },
  "language_info": {
   "codemirror_mode": {
    "name": "ipython",
    "version": 3
   },
   "file_extension": ".py",
   "mimetype": "text/x-python",
   "name": "python",
   "nbconvert_exporter": "python",
   "pygments_lexer": "ipython3",
   "version": "3.7.6"
  }
 },
 "nbformat": 4,
 "nbformat_minor": 4
}
