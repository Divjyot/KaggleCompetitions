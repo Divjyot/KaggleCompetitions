{
 "cells": [
  {
   "cell_type": "code",
   "execution_count": 3,
   "metadata": {},
   "outputs": [],
   "source": [
    "import pandas as pd\n",
    "import numpy as np\n",
    "import seaborn as sns\n",
    "import matplotlib.pyplot as plt\n",
    "from scipy import stats\n",
    "pd.set_option('display.max_colwidth', 25)\n",
    "import re\n",
    "from sklearn.model_selection import train_test_split\n",
    "from sklearn.tree import DecisionTreeRegressor\n",
    "from sklearn.model_selection import cross_val_score\n",
    "from sklearn.ensemble import RandomForestClassifier\n",
    "from sklearn.model_selection import cross_validate\n",
    "from sklearn.metrics import make_scorer"
   ]
  },
  {
   "cell_type": "code",
   "execution_count": 4,
   "metadata": {},
   "outputs": [],
   "source": [
    "df = pd.read_csv(\"titanic_datasets/train.csv\")\n",
    "train_data = df.copy()\n",
    "train_features = ['PassengerId', 'Pclass', 'Name', 'Sex', 'Age','SibSp', 'Parch', 'Ticket', 'Fare',\t'Cabin', 'Embarked']\n",
    "test_feature = ['Survived']\n",
    "# print(len(train_data))\n",
    "# print(len(test_data))"
   ]
  },
  {
   "cell_type": "code",
   "execution_count": 5,
   "metadata": {},
   "outputs": [],
   "source": [
    "test_data = pd.read_csv(\"titanic_datasets/test.csv\")"
   ]
  },
  {
   "cell_type": "code",
   "execution_count": 6,
   "metadata": {},
   "outputs": [],
   "source": [
    "def split_on_last_name(train_data_sub):\n",
    "    last_name_split_sal = train_data_sub['Name'].str.split('[,.]', expand=True)\n",
    "    last_name_split_sal[3] = last_name_split_sal[3].apply(lambda s :  '' if s is None else str(s))\n",
    "    last_name_split_sal['First/Middle Name'] = [ \"{} {}\".format(x, y) for x,y in zip(last_name_split_sal[2], last_name_split_sal[3])]\n",
    "    last_name_split_sal = last_name_split_sal.drop(columns=[2,3])\n",
    "    last_name_split_sal.columns = ['Last Name', 'Salutation', 'First/Middle Name']\n",
    "    last_name_split_sal = last_name_split_sal.applymap(lambda x: x.strip())\n",
    "    return  train_data_sub.join(last_name_split_sal)"
   ]
  },
  {
   "cell_type": "code",
   "execution_count": 7,
   "metadata": {},
   "outputs": [
    {
     "data": {
      "text/html": [
       "<div>\n",
       "<style scoped>\n",
       "    .dataframe tbody tr th:only-of-type {\n",
       "        vertical-align: middle;\n",
       "    }\n",
       "\n",
       "    .dataframe tbody tr th {\n",
       "        vertical-align: top;\n",
       "    }\n",
       "\n",
       "    .dataframe thead th {\n",
       "        text-align: right;\n",
       "    }\n",
       "</style>\n",
       "<table border=\"1\" class=\"dataframe\">\n",
       "  <thead>\n",
       "    <tr style=\"text-align: right;\">\n",
       "      <th></th>\n",
       "      <th>PassengerId</th>\n",
       "      <th>Survived</th>\n",
       "      <th>Pclass</th>\n",
       "      <th>Name</th>\n",
       "      <th>Sex</th>\n",
       "      <th>Age</th>\n",
       "      <th>SibSp</th>\n",
       "      <th>Parch</th>\n",
       "      <th>Ticket</th>\n",
       "      <th>Fare</th>\n",
       "      <th>Cabin</th>\n",
       "      <th>Embarked</th>\n",
       "      <th>Last Name</th>\n",
       "      <th>Salutation</th>\n",
       "      <th>First/Middle Name</th>\n",
       "    </tr>\n",
       "  </thead>\n",
       "  <tbody>\n",
       "    <tr>\n",
       "      <th>0</th>\n",
       "      <td>1</td>\n",
       "      <td>0</td>\n",
       "      <td>3</td>\n",
       "      <td>Braund, Mr. Owen Harris</td>\n",
       "      <td>male</td>\n",
       "      <td>22.0</td>\n",
       "      <td>1</td>\n",
       "      <td>0</td>\n",
       "      <td>A/5 21171</td>\n",
       "      <td>7.2500</td>\n",
       "      <td>NaN</td>\n",
       "      <td>S</td>\n",
       "      <td>Braund</td>\n",
       "      <td>Mr</td>\n",
       "      <td>Owen Harris</td>\n",
       "    </tr>\n",
       "    <tr>\n",
       "      <th>1</th>\n",
       "      <td>2</td>\n",
       "      <td>1</td>\n",
       "      <td>1</td>\n",
       "      <td>Cumings, Mrs. John Br...</td>\n",
       "      <td>female</td>\n",
       "      <td>38.0</td>\n",
       "      <td>1</td>\n",
       "      <td>0</td>\n",
       "      <td>PC 17599</td>\n",
       "      <td>71.2833</td>\n",
       "      <td>C85</td>\n",
       "      <td>C</td>\n",
       "      <td>Cumings</td>\n",
       "      <td>Mrs</td>\n",
       "      <td>John Bradley (Florenc...</td>\n",
       "    </tr>\n",
       "    <tr>\n",
       "      <th>2</th>\n",
       "      <td>3</td>\n",
       "      <td>1</td>\n",
       "      <td>3</td>\n",
       "      <td>Heikkinen, Miss. Laina</td>\n",
       "      <td>female</td>\n",
       "      <td>26.0</td>\n",
       "      <td>0</td>\n",
       "      <td>0</td>\n",
       "      <td>STON/O2. 3101282</td>\n",
       "      <td>7.9250</td>\n",
       "      <td>NaN</td>\n",
       "      <td>S</td>\n",
       "      <td>Heikkinen</td>\n",
       "      <td>Miss</td>\n",
       "      <td>Laina</td>\n",
       "    </tr>\n",
       "    <tr>\n",
       "      <th>3</th>\n",
       "      <td>4</td>\n",
       "      <td>1</td>\n",
       "      <td>1</td>\n",
       "      <td>Futrelle, Mrs. Jacque...</td>\n",
       "      <td>female</td>\n",
       "      <td>35.0</td>\n",
       "      <td>1</td>\n",
       "      <td>0</td>\n",
       "      <td>113803</td>\n",
       "      <td>53.1000</td>\n",
       "      <td>C123</td>\n",
       "      <td>S</td>\n",
       "      <td>Futrelle</td>\n",
       "      <td>Mrs</td>\n",
       "      <td>Jacques Heath (Lily M...</td>\n",
       "    </tr>\n",
       "    <tr>\n",
       "      <th>4</th>\n",
       "      <td>5</td>\n",
       "      <td>0</td>\n",
       "      <td>3</td>\n",
       "      <td>Allen, Mr. William Henry</td>\n",
       "      <td>male</td>\n",
       "      <td>35.0</td>\n",
       "      <td>0</td>\n",
       "      <td>0</td>\n",
       "      <td>373450</td>\n",
       "      <td>8.0500</td>\n",
       "      <td>NaN</td>\n",
       "      <td>S</td>\n",
       "      <td>Allen</td>\n",
       "      <td>Mr</td>\n",
       "      <td>William Henry</td>\n",
       "    </tr>\n",
       "  </tbody>\n",
       "</table>\n",
       "</div>"
      ],
      "text/plain": [
       "   PassengerId  Survived  Pclass                      Name     Sex   Age  \\\n",
       "0            1         0       3   Braund, Mr. Owen Harris    male  22.0   \n",
       "1            2         1       1  Cumings, Mrs. John Br...  female  38.0   \n",
       "2            3         1       3    Heikkinen, Miss. Laina  female  26.0   \n",
       "3            4         1       1  Futrelle, Mrs. Jacque...  female  35.0   \n",
       "4            5         0       3  Allen, Mr. William Henry    male  35.0   \n",
       "\n",
       "   SibSp  Parch            Ticket     Fare Cabin Embarked  Last Name  \\\n",
       "0      1      0         A/5 21171   7.2500   NaN        S     Braund   \n",
       "1      1      0          PC 17599  71.2833   C85        C    Cumings   \n",
       "2      0      0  STON/O2. 3101282   7.9250   NaN        S  Heikkinen   \n",
       "3      1      0            113803  53.1000  C123        S   Futrelle   \n",
       "4      0      0            373450   8.0500   NaN        S      Allen   \n",
       "\n",
       "  Salutation         First/Middle Name  \n",
       "0         Mr               Owen Harris  \n",
       "1        Mrs  John Bradley (Florenc...  \n",
       "2       Miss                     Laina  \n",
       "3        Mrs  Jacques Heath (Lily M...  \n",
       "4         Mr             William Henry  "
      ]
     },
     "execution_count": 7,
     "metadata": {},
     "output_type": "execute_result"
    }
   ],
   "source": [
    "train_data = split_on_last_name(train_data)\n",
    "train_data.head()"
   ]
  },
  {
   "cell_type": "code",
   "execution_count": 8,
   "metadata": {},
   "outputs": [
    {
     "data": {
      "text/html": [
       "<div>\n",
       "<style scoped>\n",
       "    .dataframe tbody tr th:only-of-type {\n",
       "        vertical-align: middle;\n",
       "    }\n",
       "\n",
       "    .dataframe tbody tr th {\n",
       "        vertical-align: top;\n",
       "    }\n",
       "\n",
       "    .dataframe thead th {\n",
       "        text-align: right;\n",
       "    }\n",
       "</style>\n",
       "<table border=\"1\" class=\"dataframe\">\n",
       "  <thead>\n",
       "    <tr style=\"text-align: right;\">\n",
       "      <th></th>\n",
       "      <th></th>\n",
       "      <th></th>\n",
       "      <th>PassengerId</th>\n",
       "      <th>Survived</th>\n",
       "      <th>Pclass</th>\n",
       "      <th>Name</th>\n",
       "      <th>Age</th>\n",
       "      <th>SibSp</th>\n",
       "      <th>Parch</th>\n",
       "      <th>Ticket</th>\n",
       "      <th>Fare</th>\n",
       "      <th>Cabin</th>\n",
       "      <th>Embarked</th>\n",
       "      <th>First/Middle Name</th>\n",
       "    </tr>\n",
       "    <tr>\n",
       "      <th>Last Name</th>\n",
       "      <th>Sex</th>\n",
       "      <th>Salutation</th>\n",
       "      <th></th>\n",
       "      <th></th>\n",
       "      <th></th>\n",
       "      <th></th>\n",
       "      <th></th>\n",
       "      <th></th>\n",
       "      <th></th>\n",
       "      <th></th>\n",
       "      <th></th>\n",
       "      <th></th>\n",
       "      <th></th>\n",
       "      <th></th>\n",
       "    </tr>\n",
       "  </thead>\n",
       "  <tbody>\n",
       "    <tr>\n",
       "      <th>Abbing</th>\n",
       "      <th>male</th>\n",
       "      <th>Mr</th>\n",
       "      <td>846</td>\n",
       "      <td>0</td>\n",
       "      <td>3</td>\n",
       "      <td>Abbing, Mr. Anthony</td>\n",
       "      <td>42.0</td>\n",
       "      <td>0</td>\n",
       "      <td>0</td>\n",
       "      <td>C.A. 5547</td>\n",
       "      <td>7.55</td>\n",
       "      <td>NaN</td>\n",
       "      <td>S</td>\n",
       "      <td>Anthony</td>\n",
       "    </tr>\n",
       "    <tr>\n",
       "      <th rowspan=\"2\" valign=\"top\">Abbott</th>\n",
       "      <th>female</th>\n",
       "      <th>Mrs</th>\n",
       "      <td>280</td>\n",
       "      <td>1</td>\n",
       "      <td>3</td>\n",
       "      <td>Abbott, Mrs. Stanton ...</td>\n",
       "      <td>35.0</td>\n",
       "      <td>1</td>\n",
       "      <td>1</td>\n",
       "      <td>C.A. 2673</td>\n",
       "      <td>20.25</td>\n",
       "      <td>NaN</td>\n",
       "      <td>S</td>\n",
       "      <td>Stanton (Rosa Hunt)</td>\n",
       "    </tr>\n",
       "    <tr>\n",
       "      <th>male</th>\n",
       "      <th>Mr</th>\n",
       "      <td>747</td>\n",
       "      <td>0</td>\n",
       "      <td>3</td>\n",
       "      <td>Abbott, Mr. Rossmore ...</td>\n",
       "      <td>16.0</td>\n",
       "      <td>1</td>\n",
       "      <td>1</td>\n",
       "      <td>C.A. 2673</td>\n",
       "      <td>20.25</td>\n",
       "      <td>NaN</td>\n",
       "      <td>S</td>\n",
       "      <td>Rossmore Edward</td>\n",
       "    </tr>\n",
       "    <tr>\n",
       "      <th rowspan=\"2\" valign=\"top\">Abelson</th>\n",
       "      <th>female</th>\n",
       "      <th>Mrs</th>\n",
       "      <td>875</td>\n",
       "      <td>1</td>\n",
       "      <td>2</td>\n",
       "      <td>Abelson, Mrs. Samuel ...</td>\n",
       "      <td>28.0</td>\n",
       "      <td>1</td>\n",
       "      <td>0</td>\n",
       "      <td>P/PP 3381</td>\n",
       "      <td>24.00</td>\n",
       "      <td>NaN</td>\n",
       "      <td>C</td>\n",
       "      <td>Samuel (Hannah Wizosky)</td>\n",
       "    </tr>\n",
       "    <tr>\n",
       "      <th>male</th>\n",
       "      <th>Mr</th>\n",
       "      <td>309</td>\n",
       "      <td>0</td>\n",
       "      <td>2</td>\n",
       "      <td>Abelson, Mr. Samuel</td>\n",
       "      <td>30.0</td>\n",
       "      <td>1</td>\n",
       "      <td>0</td>\n",
       "      <td>P/PP 3381</td>\n",
       "      <td>24.00</td>\n",
       "      <td>NaN</td>\n",
       "      <td>C</td>\n",
       "      <td>Samuel</td>\n",
       "    </tr>\n",
       "  </tbody>\n",
       "</table>\n",
       "</div>"
      ],
      "text/plain": [
       "                             PassengerId  Survived  Pclass  \\\n",
       "Last Name Sex    Salutation                                  \n",
       "Abbing    male   Mr                  846         0       3   \n",
       "Abbott    female Mrs                 280         1       3   \n",
       "          male   Mr                  747         0       3   \n",
       "Abelson   female Mrs                 875         1       2   \n",
       "          male   Mr                  309         0       2   \n",
       "\n",
       "                                                 Name   Age  SibSp  Parch  \\\n",
       "Last Name Sex    Salutation                                                 \n",
       "Abbing    male   Mr               Abbing, Mr. Anthony  42.0      0      0   \n",
       "Abbott    female Mrs         Abbott, Mrs. Stanton ...  35.0      1      1   \n",
       "          male   Mr          Abbott, Mr. Rossmore ...  16.0      1      1   \n",
       "Abelson   female Mrs         Abelson, Mrs. Samuel ...  28.0      1      0   \n",
       "          male   Mr               Abelson, Mr. Samuel  30.0      1      0   \n",
       "\n",
       "                                Ticket   Fare Cabin Embarked  \\\n",
       "Last Name Sex    Salutation                                    \n",
       "Abbing    male   Mr          C.A. 5547   7.55   NaN        S   \n",
       "Abbott    female Mrs         C.A. 2673  20.25   NaN        S   \n",
       "          male   Mr          C.A. 2673  20.25   NaN        S   \n",
       "Abelson   female Mrs         P/PP 3381  24.00   NaN        C   \n",
       "          male   Mr          P/PP 3381  24.00   NaN        C   \n",
       "\n",
       "                                   First/Middle Name  \n",
       "Last Name Sex    Salutation                           \n",
       "Abbing    male   Mr                          Anthony  \n",
       "Abbott    female Mrs             Stanton (Rosa Hunt)  \n",
       "          male   Mr                  Rossmore Edward  \n",
       "Abelson   female Mrs         Samuel (Hannah Wizosky)  \n",
       "          male   Mr                           Samuel  "
      ]
     },
     "execution_count": 8,
     "metadata": {},
     "output_type": "execute_result"
    }
   ],
   "source": [
    "train_data.set_index(['Last Name', 'Sex' , 'Salutation']).sort_index().head()"
   ]
  },
  {
   "cell_type": "code",
   "execution_count": 9,
   "metadata": {},
   "outputs": [],
   "source": [
    "features = ['PassengerId', 'Last Name', 'Salutation', 'First/Middle Name', 'Sex', 'Age', 'SibSp', 'Parch', 'Pclass', 'Fare', 'Ticket', 'Cabin', 'Embarked' ]\n",
    "train_labels = train_data[['Survived']]\n",
    "train_features = train_data[features]\n",
    "test_features = test_data[['PassengerId',  'Sex', 'Age', 'SibSp', 'Parch', 'Pclass', 'Embarked', 'Ticket']]"
   ]
  },
  {
   "cell_type": "code",
   "execution_count": 10,
   "metadata": {},
   "outputs": [],
   "source": [
    "# Not used at moment:  'Fare', 'Ticket', 'Last Name', 'Salutation', 'First/Middle Name','Cabin',"
   ]
  },
  {
   "cell_type": "code",
   "execution_count": 11,
   "metadata": {},
   "outputs": [],
   "source": [
    "def classify(train_features_reduced):\n",
    "    X_train, X_test, y_train, y_test = train_test_split(train_features_reduced.drop(columns=['PassengerId']), train_labels['Survived'], test_size=0.2)\n",
    "    model = RandomForestClassifier(\n",
    "                n_estimators=150,\n",
    "                max_depth=20,\n",
    "                random_state=1)\n",
    "    model.fit(X_train, y_train)\n",
    "    return (model , model.score(X_test, y_test))\n",
    "\n",
    "def output(train_features_reduced, test_X):\n",
    "    res = classify(train_features_reduced)\n",
    "    model = res[0]\n",
    "    predictions = model.predict(test_X)\n",
    "    predictions.to_csv('Submission3.csv', index=False)"
   ]
  },
  {
   "cell_type": "markdown",
   "metadata": {},
   "source": [
    "### Cross Validation Score"
   ]
  },
  {
   "cell_type": "code",
   "execution_count": 12,
   "metadata": {},
   "outputs": [],
   "source": [
    "def cross_validate(train_features_reduced):\n",
    "    res = classify(train_features_reduced)\n",
    "    model = res[0]\n",
    "    scores = cross_val_score(model, train_features_reduced.drop(columns=['PassengerId']), train_labels['Survived'], cv=20)\n",
    "    return  'Model Score: {mscore}, Cross Val Score: {cvscore}'.format(mscore=res[1], cvscore=np.mean(scores))"
   ]
  },
  {
   "cell_type": "code",
   "execution_count": 13,
   "metadata": {},
   "outputs": [
    {
     "name": "stderr",
     "output_type": "stream",
     "text": [
      "C:\\Users\\divjo\\Anaconda3\\envs\\super\\lib\\site-packages\\pandas\\core\\generic.py:6244: SettingWithCopyWarning: \n",
      "A value is trying to be set on a copy of a slice from a DataFrame\n",
      "\n",
      "See the caveats in the documentation: https://pandas.pydata.org/pandas-docs/stable/user_guide/indexing.html#returning-a-view-versus-a-copy\n",
      "  self._update_inplace(new_data)\n",
      "C:\\Users\\divjo\\Anaconda3\\envs\\super\\lib\\site-packages\\ipykernel_launcher.py:1: SettingWithCopyWarning: \n",
      "A value is trying to be set on a copy of a slice from a DataFrame.\n",
      "Try using .loc[row_indexer,col_indexer] = value instead\n",
      "\n",
      "See the caveats in the documentation: https://pandas.pydata.org/pandas-docs/stable/user_guide/indexing.html#returning-a-view-versus-a-copy\n",
      "  \"\"\"Entry point for launching an IPython kernel.\n"
     ]
    }
   ],
   "source": [
    "train_features['Age'] = train_features['Age'].fillna(np.mean(train_data['Age']), inplace = True)"
   ]
  },
  {
   "cell_type": "code",
   "execution_count": 14,
   "metadata": {},
   "outputs": [
    {
     "data": {
      "text/plain": [
       "'Model Score: 0.7877094972067039, Cross Val Score: 0.7967929292929293'"
      ]
     },
     "execution_count": 14,
     "metadata": {},
     "output_type": "execute_result"
    }
   ],
   "source": [
    "train_features_reduced = pd.get_dummies(train_features[['PassengerId',  'Sex', 'Age', 'SibSp', 'Parch', 'Pclass',  'Embarked' ]])\n",
    "cross_validate(train_features_reduced)"
   ]
  },
  {
   "cell_type": "markdown",
   "metadata": {},
   "source": [
    "#### Let us improve accuracy by including other features"
   ]
  },
  {
   "cell_type": "code",
   "execution_count": 52,
   "metadata": {},
   "outputs": [
    {
     "data": {
      "text/plain": [
       "'Model Score: 0.7877094972067039, Cross Val Score: 0.8135858585858585'"
      ]
     },
     "execution_count": 52,
     "metadata": {},
     "output_type": "execute_result"
    }
   ],
   "source": [
    "train_features_reduced = pd.get_dummies(train_features[['PassengerId',  'Sex', 'Age', 'SibSp', 'Parch', 'Pclass', 'Embarked', 'Ticket']])\n",
    "cross_validate(train_features_reduced)"
   ]
  },
  {
   "cell_type": "markdown",
   "metadata": {},
   "source": [
    "#### Using this, lets output"
   ]
  },
  {
   "cell_type": "code",
   "execution_count": 53,
   "metadata": {},
   "outputs": [
    {
     "name": "stderr",
     "output_type": "stream",
     "text": [
      "C:\\Users\\divjo\\Miniconda3\\lib\\site-packages\\pandas\\core\\generic.py:6130: SettingWithCopyWarning: \n",
      "A value is trying to be set on a copy of a slice from a DataFrame\n",
      "\n",
      "See the caveats in the documentation: http://pandas.pydata.org/pandas-docs/stable/indexing.html#indexing-view-versus-copy\n",
      "  self._update_inplace(new_data)\n",
      "C:\\Users\\divjo\\Miniconda3\\lib\\site-packages\\ipykernel_launcher.py:1: SettingWithCopyWarning: \n",
      "A value is trying to be set on a copy of a slice from a DataFrame.\n",
      "Try using .loc[row_indexer,col_indexer] = value instead\n",
      "\n",
      "See the caveats in the documentation: http://pandas.pydata.org/pandas-docs/stable/indexing.html#indexing-view-versus-copy\n",
      "  \"\"\"Entry point for launching an IPython kernel.\n"
     ]
    }
   ],
   "source": [
    "test_features['Age'] = test_features['Age'].fillna(np.mean(test_data['Age']), inplace = True)\n",
    "test_features_reduced = pd.get_dummies(test_features[['PassengerId',  'Sex', 'Age', 'SibSp', 'Parch', 'Pclass', 'Embarked', 'Ticket']])"
   ]
  },
  {
   "cell_type": "markdown",
   "metadata": {},
   "source": [
    "#### !! Important !! Ticket is such a columns - the values of which are not categorical nor all the value type are there in train data and some of the ticket values in test are not in train data"
   ]
  },
  {
   "cell_type": "code",
   "execution_count": 80,
   "metadata": {},
   "outputs": [
    {
     "name": "stdout",
     "output_type": "stream",
     "text": [
      "248\n",
      "566\n"
     ]
    }
   ],
   "source": [
    "print(len(list(set(test_data['Ticket']) - set(train_data['Ticket']))))## TRICKKY!!!!\n",
    "print(len(list(set(train_data ['Ticket']) - set(test_data['Ticket']))))## TRICKKY!!!!\n",
    "# So that means we cannot one hot encode Tickets as categorical  :("
   ]
  },
  {
   "cell_type": "markdown",
   "metadata": {},
   "source": [
    "train_data[]"
   ]
  },
  {
   "cell_type": "code",
   "execution_count": null,
   "metadata": {},
   "outputs": [],
   "source": []
  }
 ],
 "metadata": {
  "kernelspec": {
   "display_name": "Python 3",
   "language": "python",
   "name": "python3"
  },
  "language_info": {
   "codemirror_mode": {
    "name": "ipython",
    "version": 3
   },
   "file_extension": ".py",
   "mimetype": "text/x-python",
   "name": "python",
   "nbconvert_exporter": "python",
   "pygments_lexer": "ipython3",
   "version": "3.7.6"
  }
 },
 "nbformat": 4,
 "nbformat_minor": 4
}
